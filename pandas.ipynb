{
  "nbformat": 4,
  "nbformat_minor": 0,
  "metadata": {
    "colab": {
      "name": "Untitled1.ipynb",
      "provenance": [],
      "collapsed_sections": [],
      "authorship_tag": "ABX9TyMS6Q0CtFtSnsH401Jd8wnC",
      "include_colab_link": true
    },
    "kernelspec": {
      "name": "python3",
      "display_name": "Python 3"
    },
    "language_info": {
      "name": "python"
    }
  },
  "cells": [
    {
      "cell_type": "markdown",
      "metadata": {
        "id": "view-in-github",
        "colab_type": "text"
      },
      "source": [
        "<a href=\"https://colab.research.google.com/github/calrose/Pandas/blob/main/pandas.ipynb\" target=\"_parent\"><img src=\"https://colab.research.google.com/assets/colab-badge.svg\" alt=\"Open In Colab\"/></a>"
      ]
    },
    {
      "cell_type": "code",
      "metadata": {
        "id": "Kmb74JvK9oif",
        "colab": {
          "base_uri": "https://localhost:8080/",
          "height": 249
        },
        "outputId": "f5066fcf-8598-45a7-bc5c-50f38688dd81"
      },
      "source": [
        "import pandas as pd\n",
        "import numpy as np\n",
        "\n",
        "Data1 = pd.read_csv('/content/tableconvert_csv_so70jx.csv')\n",
        "ser1 = pd.Series(Data1[\"petal.length\"])\n",
        "print(np.mean(ser1))\n",
        "nump = Data1.to_numpy()\n",
        "df = pd.DataFrame(nump, columns = ['sepal.length','sepal.width','petal.length','petal.width','variety'])\n",
        "print(pd.DataFrame.mean(df))\n",
        "Data2 = pd.read_json('/content/tableconvert_json_f0acan.json')\n",
        "#Data2.to_csv('CSVData.csv')\n",
        "Data3 = pd.read_xml('/content/tableconvert_xml_1dxz8d.xml')\n",
        "print(Data3)\n",
        "#Data1.to_xml('XMLdata.xml')"
      ],
      "execution_count": 23,
      "outputs": [
        {
          "output_type": "stream",
          "name": "stdout",
          "text": [
            "3.7580000000000027\n",
            "sepal.length    5.843333\n",
            "sepal.width     3.057333\n",
            "petal.length    3.758000\n",
            "petal.width     1.199333\n",
            "dtype: float64\n"
          ]
        },
        {
          "output_type": "stream",
          "name": "stderr",
          "text": [
            "/usr/local/lib/python3.7/dist-packages/ipykernel_launcher.py:9: FutureWarning: Dropping of nuisance columns in DataFrame reductions (with 'numeric_only=None') is deprecated; in a future version this will raise TypeError.  Select only valid columns before calling the reduction.\n",
            "  if __name__ == '__main__':\n"
          ]
        },
        {
          "output_type": "error",
          "ename": "XMLSyntaxError",
          "evalue": "ignored",
          "traceback": [
            "\u001b[0;36m  File \u001b[0;32m\"<string>\"\u001b[0;36m, line \u001b[0;32m3\u001b[0m\n\u001b[0;31mXMLSyntaxError\u001b[0m\u001b[0;31m:\u001b[0m StartTag: invalid element name, line 3, column 11\n"
          ]
        }
      ]
    },
    {
      "cell_type": "code",
      "metadata": {
        "id": "dpNMKjhP6hwA",
        "colab": {
          "base_uri": "https://localhost:8080/"
        },
        "outputId": "3e738a73-284e-4e72-bedb-334e966b35fa"
      },
      "source": [
        "import pandas as pd\n",
        "\n",
        "Data = pd.read_csv('/content/tableconvert_csv_so70jx.csv')\n",
        "#ser1 = pd.Series(Data[\"petal.length\"])\n",
        "#ser2 = pd.Series(Data[\"petal.width\"])\n",
        "#ser1[~ser1.isin(ser2)]\n",
        "\n",
        "#Data.groupby(\"variety\")[\"petal.length\"].std()\n",
        "\n",
        "#Data[\"variety\"].value_counts()\n",
        "\n",
        "#Data.describe()\n",
        "\n",
        "#Data.head()\n",
        "\n",
        "#Data.dtypes\n",
        "\n",
        "#Data.var()\n",
        "\n",
        "Data.to_json('JsonData.json')\n",
        "Data.to_xml('XMLdata.xml')"
      ],
      "execution_count": null,
      "outputs": [
        {
          "output_type": "execute_result",
          "data": {
            "text/plain": [
              "50     4.7\n",
              "51     4.5\n",
              "52     4.9\n",
              "53     4.0\n",
              "54     4.6\n",
              "      ... \n",
              "145    5.2\n",
              "146    5.0\n",
              "147    5.2\n",
              "148    5.4\n",
              "149    5.1\n",
              "Name: petal.length, Length: 100, dtype: float64"
            ]
          },
          "metadata": {},
          "execution_count": 9
        }
      ]
    }
  ]
}